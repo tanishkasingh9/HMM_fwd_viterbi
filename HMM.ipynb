{
  "nbformat": 4,
  "nbformat_minor": 0,
  "metadata": {
    "colab": {
      "name": "HMM.ipynb",
      "provenance": []
    },
    "kernelspec": {
      "name": "python3",
      "display_name": "Python 3"
    }
  },
  "cells": [
    {
      "cell_type": "code",
      "metadata": {
        "id": "uf_7zDwZ8se9",
        "colab_type": "code",
        "colab": {}
      },
      "source": [
        "import numpy as np\n",
        "import pandas as pd \n",
        "import random\n",
        "import operator"
      ],
      "execution_count": 0,
      "outputs": []
    },
    {
      "cell_type": "markdown",
      "metadata": {
        "id": "ZBMULMJV7PEi",
        "colab_type": "text"
      },
      "source": [
        "# DECLARE transition probabilities, states and emission probabilities here."
      ]
    },
    {
      "cell_type": "code",
      "metadata": {
        "id": "EcghsHTFvtl3",
        "colab_type": "code",
        "colab": {}
      },
      "source": [
        "pi1 = [0.0,1.0,0.0,0.0]\n",
        "pi2=[0.0,0.0,0.0,1.0]\n",
        "a1 =[[1.0,0.0,0.0,0.0],[0.0,0.0,0.0,1.0],[0.0,0.4,0.3,0.3],[0.3,0.2,0.2,0.3]]\n",
        "a2 = [[1.0,0.0,0.0,0.0],[0.1,0.3,0.5,0.1],[0.1,0.4,0.3,0.2],[0.1,0.4,0.2,0.3]]\n",
        "b1 =[[1.0,0.0,0.0,0.0,0.0],[0.0,0.5,0.5,0.0,0.0],[0.0,0.2,0.2,0.3,0.3],[0.0,0.0,0.0,0.5,0.5]]\n",
        "b2 = [[1.0,0.0,0.0,0.0,0.0],[0.0,0.0,0.5,0.0,0.5],[0.0,0.0,0.5,0.5,0.0],[0.0,0.5,0.0,0.0,0.5]]\n",
        "h_state = {1,2,3,4}\n",
        "o_state = {'S','A','B','C','D'}"
      ],
      "execution_count": 0,
      "outputs": []
    },
    {
      "cell_type": "markdown",
      "metadata": {
        "id": "y2JnVDGE7dYQ",
        "colab_type": "text"
      },
      "source": [
        "## view your HMM (HMM1, HMM2)"
      ]
    },
    {
      "cell_type": "code",
      "metadata": {
        "id": "zdK2gpCf9Cya",
        "colab_type": "code",
        "colab": {}
      },
      "source": [
        "trans_mat1= pd.DataFrame(a1, columns = [1 , 2, 3, 4], index=[1, 2, 3,4])\n",
        "trans_mat2= pd.DataFrame(a2, columns = [1 , 2, 3, 4], index=[1, 2, 3,4])\n",
        "emis_1=  pd.DataFrame(b1, columns = ['S','A','B','C','D'], index=[1, 2, 3,4])\n",
        "emis_2=  pd.DataFrame(b2, columns = ['S','A','B','C','D'], index=[1, 2, 3,4])"
      ],
      "execution_count": 0,
      "outputs": []
    },
    {
      "cell_type": "code",
      "metadata": {
        "id": "oFWcQA9P-pXd",
        "colab_type": "code",
        "outputId": "fee1fea8-e200-4e22-fd0b-c9d075169ef2",
        "colab": {
          "base_uri": "https://localhost:8080/",
          "height": 444
        }
      },
      "source": [
        "print(trans_mat1,'\\n')\n",
        "print(trans_mat2,'\\n')\n",
        "print(emis_1,'\\n')\n",
        "print(emis_2,'\\n')"
      ],
      "execution_count": 0,
      "outputs": [
        {
          "output_type": "stream",
          "text": [
            "     1    2    3    4\n",
            "1  1.0  0.0  0.0  0.0\n",
            "2  0.0  0.0  0.0  1.0\n",
            "3  0.0  0.4  0.3  0.3\n",
            "4  0.3  0.2  0.2  0.3 \n",
            "\n",
            "     1    2    3    4\n",
            "1  1.0  0.0  0.0  0.0\n",
            "2  0.1  0.3  0.5  0.1\n",
            "3  0.1  0.4  0.3  0.2\n",
            "4  0.1  0.4  0.2  0.3 \n",
            "\n",
            "     S    A    B    C    D\n",
            "1  1.0  0.0  0.0  0.0  0.0\n",
            "2  0.0  0.5  0.5  0.0  0.0\n",
            "3  0.0  0.2  0.2  0.3  0.3\n",
            "4  0.0  0.0  0.0  0.5  0.5 \n",
            "\n",
            "     S    A    B    C    D\n",
            "1  1.0  0.0  0.0  0.0  0.0\n",
            "2  0.0  0.0  0.5  0.0  0.5\n",
            "3  0.0  0.0  0.5  0.5  0.0\n",
            "4  0.0  0.5  0.0  0.0  0.5 \n",
            "\n"
          ],
          "name": "stdout"
        }
      ]
    },
    {
      "cell_type": "markdown",
      "metadata": {
        "id": "zzbF-tBt7jIP",
        "colab_type": "text"
      },
      "source": [
        "# Generate Observations from defined HMM"
      ]
    },
    {
      "cell_type": "code",
      "metadata": {
        "id": "HygGNYqh_Oms",
        "colab_type": "code",
        "colab": {}
      },
      "source": [
        "def gen_one_obs():\n",
        "  start = {}\n",
        "  obs_for_iteration = []\n",
        "  for i in range(0,4):\n",
        "    if pi1[i]!=0:\n",
        "      start[i+1] = pi1[i]\n",
        "  ch_start = random.choice(list(start.keys()))\n",
        "  curr_hstate = ch_start\n",
        "  curr_obs = ''\n",
        "  \n",
        "  while(curr_obs!='S'):\n",
        "    #print(curr_hstate)\n",
        "    obs_feas = emis_1.loc[curr_hstate]\n",
        "    obs_ch = obs_feas[obs_feas!=0.0].index\n",
        "    curr_obs = random.choice(obs_ch)\n",
        "    obs_for_iteration.append(curr_obs)\n",
        "    next_list = trans_mat1.loc[curr_hstate]\n",
        "    next_states = next_list[next_list!=0.0].index\n",
        "    curr_hstate = random.choice(next_states)\n",
        "    #print( curr_obs)\n",
        "    \n",
        "  return obs_for_iteration"
      ],
      "execution_count": 0,
      "outputs": []
    },
    {
      "cell_type": "code",
      "metadata": {
        "id": "1JsiacddErjS",
        "colab_type": "code",
        "outputId": "1e34beb4-c5ab-41ec-8630-d6e484e1ceee",
        "colab": {
          "base_uri": "https://localhost:8080/",
          "height": 195
        }
      },
      "source": [
        "for i in range(1,11):\n",
        "  obs = gen_one_obs()\n",
        "  print(i,'. ', obs)\n",
        "  "
      ],
      "execution_count": 0,
      "outputs": [
        {
          "output_type": "stream",
          "text": [
            "1 .  ['B', 'C', 'D', 'B', 'B', 'A', 'C', 'A', 'D', 'B', 'D', 'S']\n",
            "2 .  ['B', 'D', 'B', 'B', 'D', 'D', 'D', 'D', 'S']\n",
            "3 .  ['A', 'D', 'S']\n",
            "4 .  ['A', 'C', 'S']\n",
            "5 .  ['A', 'C', 'B', 'D', 'C', 'C', 'D', 'C', 'D', 'D', 'C', 'C', 'D', 'D', 'C', 'S']\n",
            "6 .  ['B', 'D', 'D', 'S']\n",
            "7 .  ['B', 'D', 'S']\n",
            "8 .  ['B', 'C', 'B', 'C', 'C', 'B', 'D', 'S']\n",
            "9 .  ['B', 'C', 'C', 'A', 'C', 'S']\n",
            "10 .  ['A', 'D', 'C', 'A', 'D', 'B', 'C', 'S']\n"
          ],
          "name": "stdout"
        }
      ]
    },
    {
      "cell_type": "markdown",
      "metadata": {
        "id": "WNRJjufe7qqn",
        "colab_type": "text"
      },
      "source": [
        "# FORWARD ALGORITHM "
      ]
    },
    {
      "cell_type": "code",
      "metadata": {
        "id": "JWosyeVKY3Ah",
        "colab_type": "code",
        "colab": {}
      },
      "source": [
        "def forward_algorithm(obs):\n",
        "  T = len(obs)\n",
        "  nodes_n = 4\n",
        "  forward_1 = pd.DataFrame(index =[1,2,3,4], columns = [i for i in range(1,T+1)])\n",
        "  forward_2 = pd.DataFrame(index =[1,2,3,4], columns = [i for i in range(1,T+1)])\n",
        "  #forward_1 = forward_1.fillna(0)\n",
        "  #forward_2 = forward_2.fillna(0)\n",
        "  for s in range(1,5):\n",
        "    forward_1.at[s,1]= pi1[s-1]*emis_1.loc[s][obs[0]]\n",
        "    forward_2.loc[s][1] = pi2[s-1]*emis_2.loc[s][obs[0]]\n",
        "    \n",
        "  for t in range(2,T):\n",
        "    for s in range(1,5):\n",
        "      sum_1 = 0\n",
        "      sum_2 = 0\n",
        "      \n",
        "      for s_prev in range(1,5):\n",
        "        sum_1 = sum_1 + forward_1.loc[s_prev][t-1]*trans_mat1.loc[s_prev][s]*emis_1.loc[s][obs[t-1]]\n",
        "        sum_2= sum_2 + forward_2.loc[s_prev][t-1]*trans_mat2.loc[s_prev][s]*emis_2.loc[s][obs[t-1]]\n",
        "      forward_1.at[s,t] = sum_1\n",
        "      forward_2.at[s,t] = sum_2\n",
        "      \n",
        "  tot_p1=0\n",
        "  tot_p2=0\n",
        "  \n",
        "  for s in range(1,5):\n",
        "    tot_p1 = tot_p1  +  forward_1.loc[s][T-1]*trans_mat1.loc[s][1]\n",
        "    tot_p2 = tot_p2  +  forward_2.loc[s][T-1]*trans_mat2.loc[s][1]\n",
        "  forward_1.at[1,T] = tot_p1\n",
        "  forward_2.at[1,T] = tot_p2\n",
        "  \n",
        "  return forward_1.loc[1][T],forward_2.loc[1][T]"
      ],
      "execution_count": 0,
      "outputs": []
    },
    {
      "cell_type": "markdown",
      "metadata": {
        "id": "kKCLmbM87vY5",
        "colab_type": "text"
      },
      "source": [
        "## Check which HMM produced the observed output"
      ]
    },
    {
      "cell_type": "code",
      "metadata": {
        "id": "Xz5fcICnP-Ad",
        "colab_type": "code",
        "outputId": "04608b3d-96f8-4896-f192-9cdf3ded387d",
        "colab": {
          "base_uri": "https://localhost:8080/",
          "height": 35
        }
      },
      "source": [
        "obs_list= [['A','D','C','B','D','C','C','S'],['B','D','S'],['B','C','C','B','D','D','C','A','C','S'],['A','C','D','S'],['A','D','A','C','S'],['D','B','B','S'],['A','B','S'],['D','D','B','D','D','B','A','C','C','D','A','B','B','C','D','B','B','B','S'],['D','B','D','S'],['A','A','A','A','D','C','B','S']]\n",
        "class_label = []\n",
        "for i in range(0,len(obs_list)):\n",
        "  P_O_1, P_O_2 = forward_algorithm(obs_list[i])\n",
        "  if P_O_1>P_O_2:\n",
        "    class_label.append(1)\n",
        "  elif P_O_1<P_O_2:\n",
        "    class_label.append(2)\n",
        "  else:\n",
        "    class_label.append(random.randint(1,3))\n",
        "    \n",
        "class_label\n"
      ],
      "execution_count": 0,
      "outputs": [
        {
          "output_type": "execute_result",
          "data": {
            "text/plain": [
              "[1, 1, 1, 1, 1, 2, 2, 2, 2, 2]"
            ]
          },
          "metadata": {
            "tags": []
          },
          "execution_count": 20
        }
      ]
    },
    {
      "cell_type": "markdown",
      "metadata": {
        "id": "FfhIfPkP8IAI",
        "colab_type": "text"
      },
      "source": [
        "# VITERBI ALGORITHM"
      ]
    },
    {
      "cell_type": "code",
      "metadata": {
        "id": "vKsjH7fFFxFU",
        "colab_type": "code",
        "colab": {}
      },
      "source": [
        "def viterbi_algorithm(obs):\n",
        "  T = len(obs)\n",
        "  nodes_n = 4\n",
        "  viterbi = pd.DataFrame(index =[1,2,3,4], columns = [i for i in range(1,T+1)])\n",
        "  bp_viterbi = pd.DataFrame(index =[1,2,3,4], columns = [i for i in range(1,T+1)])\n",
        "  for s in range(1,5):\n",
        "    viterbi.at[s,1]= pi2[s-1]*emis_2.loc[s][obs[0]]\n",
        "    bp_viterbi.at[s,1] = 0\n",
        "  for t in range(2,T):\n",
        "    for s in range(1,5):\n",
        "      max_vit = 0.0\n",
        "      bp_max = {}\n",
        "      for s_prev in range(1,5):\n",
        "        max_vit = max((viterbi.loc[s_prev][t-1]*trans_mat2.loc[s_prev][s]*emis_2.loc[s][obs[t-1]],max_vit))\n",
        "        bp_max[s_prev] = viterbi.loc[s_prev][t-1]*trans_mat2.loc[s_prev][s]\n",
        "      viterbi.at[s,t] = max_vit\n",
        "      argmax_vit = max( bp_max.items(), key=operator.itemgetter(1))[0]\n",
        "      bp_viterbi.at[s,t]= argmax_vit\n",
        "  Tmax_vit = 0.0\n",
        "  Tbp_max = {}\n",
        "  for s in range(1,5):\n",
        "    Tmax_vit = max((viterbi.loc[s][T-1]*trans_mat2.loc[s][1]), Tmax_vit)\n",
        "    Tbp_max[s] = viterbi.loc[s][T-1]*trans_mat2.loc[s][1]\n",
        "  viterbi.at[1,T] = Tmax_vit  \n",
        "  Targmax_vit = max(Tbp_max.items(), key=operator.itemgetter(1))[0]\n",
        "  bp_viterbi.at[1,T]= Targmax_vit\n",
        "  seq= []\n",
        "  print(viterbi)\n",
        "  for i in range(2,T+1):\n",
        "    seq.append(bp_viterbi.loc[1][i])\n",
        "  seq.append(1)\n",
        "  return seq\n",
        "  "
      ],
      "execution_count": 0,
      "outputs": []
    },
    {
      "cell_type": "markdown",
      "metadata": {
        "id": "GikCntx08NI3",
        "colab_type": "text"
      },
      "source": [
        "## Find Hidden states for observed sequence"
      ]
    },
    {
      "cell_type": "code",
      "metadata": {
        "id": "leULbrRQF5Wx",
        "colab_type": "code",
        "outputId": "81285017-6f3b-490f-9fef-1cd24a0a52e1",
        "colab": {
          "base_uri": "https://localhost:8080/",
          "height": 195
        }
      },
      "source": [
        "ans = []\n",
        "for i in obs_list:\n",
        "  ans.append(viterbi_algorithm(i))\n",
        "ans\n",
        "  "
      ],
      "execution_count": 0,
      "outputs": [
        {
          "output_type": "execute_result",
          "data": {
            "text/plain": [
              "[[4, 2, 3, 2, 2, 3, 3, 1],\n",
              " [1, 1, 1],\n",
              " [1, 1, 1, 1, 1, 1, 1, 1, 1, 1],\n",
              " [4, 3, 2, 1],\n",
              " [4, 2, 4, 3, 1],\n",
              " [4, 2, 3, 1],\n",
              " [4, 2, 1],\n",
              " [4, 2, 3, 2, 2, 3, 4, 3, 3, 2, 4, 2, 3, 3, 2, 3, 2, 3, 1],\n",
              " [4, 2, 2, 1],\n",
              " [4, 4, 4, 4, 2, 3, 2, 1]]"
            ]
          },
          "metadata": {
            "tags": []
          },
          "execution_count": 42
        }
      ]
    },
    {
      "cell_type": "code",
      "metadata": {
        "id": "_kI9-EhYIU2x",
        "colab_type": "code",
        "colab": {}
      },
      "source": [
        "viterbi_algorithm(obs_list[4])"
      ],
      "execution_count": 0,
      "outputs": []
    }
  ]
}